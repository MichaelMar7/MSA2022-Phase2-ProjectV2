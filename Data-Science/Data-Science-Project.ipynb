{
 "cells": [
  {
   "cell_type": "markdown",
   "metadata": {},
   "source": [
    "# MSA 2022 Phase 2 Data Science"
   ]
  },
  {
   "cell_type": "code",
   "execution_count": 1,
   "metadata": {},
   "outputs": [],
   "source": [
    "import pandas as pd\n",
    "import seaborn as sns\n",
    "import matplotlib.pyplot as plt\n",
    "import numpy as np"
   ]
  },
  {
   "cell_type": "markdown",
   "metadata": {},
   "source": [
    "## Part 1: Exploratory Data Analysis\n",
    "\n",
    "### Raw Dataframe\n",
    "\n",
    "```\n",
    "Weather Data\n",
    "        station             valid  tmpc  dwpc   relh  sknt  gust  peak_wind_drct\n",
    "0          NZAA  2015-01-01 00:00  21.0  11.0  52.77  15.0   NaN             NaN\n",
    "1          NZAA  2015-01-01 00:30  21.0  10.0  49.37  16.0   NaN             NaN\n",
    "2          NZAA  2015-01-01 01:00  21.0  12.0  56.38  16.0   NaN             NaN\n",
    "3          NZAA  2015-01-01 01:30  21.0  13.0  60.21  16.0   NaN             NaN\n",
    "4          NZAA  2015-01-01 02:00  21.0  12.0  56.38  16.0   NaN             NaN\n",
    "...         ...               ...   ...   ...    ...   ...   ...             ...\n",
    "103708     NZAA  2020-12-30 21:30  19.0  14.0  72.74   5.0   NaN             NaN\n",
    "103709     NZAA  2020-12-30 22:00  19.0  14.0  72.74   6.0   NaN             NaN\n",
    "103710     NZAA  2020-12-30 22:30  20.0  14.0  68.35   6.0   NaN             NaN\n",
    "103711     NZAA  2020-12-30 23:00  20.0  14.0  68.35   7.0   NaN             NaN\n",
    "103712     NZAA  2020-12-30 23:30  22.0  14.0  60.44   6.0   NaN             NaN\n",
    "```\n",
    "\n",
    "### Average\n",
    "\n",
    "```\n",
    "tmpc              15.811503\n",
    "dwpc              12.115772\n",
    "relh              79.782307\n",
    "sknt               8.919029\n",
    "gust              30.962594\n",
    "peak_wind_drct          NaN\n",
    "```\n",
    "\n",
    "### Standard Deviation\n",
    "\n",
    "```\n",
    "tmpc               4.235197\n",
    "dwpc               3.738005\n",
    "relh              12.562199\n",
    "sknt               5.348379\n",
    "gust               6.319510\n",
    "peak_wind_drct          NaN\n",
    "```\n",
    "\n",
    "### Percentile (25% - 75%)\n",
    "\n",
    "```\n",
    "tmpc              16.00\n",
    "dwpc              12.00\n",
    "relh              81.99\n",
    "sknt               8.00\n",
    "gust              31.00\n",
    "peak_wind_drct      NaN\n",
    "```\n",
    "\n",
    "### Correlation Plot\n",
    "\n",
    "![](Images/part1-correlation.png)\n",
    "\n",
    "### Line Plot\n",
    "\n",
    "![](Images/part1-line-tmpc.png)\n",
    "\n",
    "### Comments\n",
    "\n",
    "What I noticed in the dataset from the ```weather-data.csv``` file is that there was only very few data on the ```gust``` column and no data on the ```peak_wind_drct``` column. So when I process the data, I would remove the ```gust``` and ```peak_wind_drct``` columns.\n",
    "\n",
    "Looking at the Correlation Plot for the dataset, there is a positive correlation between the ```tmpc``` and ```dwpc``` groups, but an approxaimate negative correlation when those two groups were conpared to the other groups. The ```peak_wind_drct``` noticcably lacks any data as stated above.\n",
    "\n",
    "Looking at the Line Plot of the ```valid``` times and ```tmpc``` group, the environmental temperature increases and decreases as time goes on. It can be seen that the temperature peaks at about the beginning of the years and the troughs at about the middle of the year. This concides with the temperatures in the southern hemisphere, despite this data comes from a source in the northern hemisphere (from the Towa State University which is in USA in the northern hemisphere)."
   ]
  },
  {
   "cell_type": "code",
   "execution_count": null,
   "metadata": {},
   "outputs": [],
   "source": [
    "data = pd.read_csv(\"MSA2022-Phase2-ProjectV2\\Data-Science\\weather-data.csv\") # Raw Dataframe\n",
    "data_average = data[[\"tmpc\", \"dwpc\", \"relh\", \"sknt\", \"gust\", \"peak_wind_drct\"]].mean() # Average Dataframe\n",
    "data_std = data[[\"tmpc\", \"dwpc\", \"relh\", \"sknt\", \"gust\", \"peak_wind_drct\"]].std() # Standard Deviation Dataframe\n",
    "data_quantile = data[[\"tmpc\", \"dwpc\", \"relh\", \"sknt\", \"gust\", \"peak_wind_drct\"]].quantile() # Percentile (25%-75%) Dataframe\n",
    "\n",
    "corr = data.corr() # Correlation Plot\n",
    "sns.heatmap(corr, \n",
    "    xticklabels=corr.columns,\n",
    "    yticklabels=corr.columns)\n",
    "plt.show()\n",
    "\n",
    "data.plot.line(\"valid\", \"tmpc\") # Line Graph between \"valid\" (time) group and \"tmpc\" (environmental temerature) group\n",
    "plt.plot(data.valid, data.tmpc)\n",
    "plt.show()"
   ]
  },
  {
   "cell_type": "markdown",
   "metadata": {},
   "source": [
    "## Part 2: Data Processing"
   ]
  }
 ],
 "metadata": {
  "kernelspec": {
   "display_name": "Python 3.9.12 ('base')",
   "language": "python",
   "name": "python3"
  },
  "language_info": {
   "codemirror_mode": {
    "name": "ipython",
    "version": 3
   },
   "file_extension": ".py",
   "mimetype": "text/x-python",
   "name": "python",
   "nbconvert_exporter": "python",
   "pygments_lexer": "ipython3",
   "version": "3.9.12"
  },
  "orig_nbformat": 4,
  "vscode": {
   "interpreter": {
    "hash": "36ab7f9348c7d0662a1965af503f4376fbff05df74ea3a3ead8d3abcf8650cb8"
   }
  }
 },
 "nbformat": 4,
 "nbformat_minor": 2
}
